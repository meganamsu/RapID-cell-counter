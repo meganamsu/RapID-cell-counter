{
 "cells": [
  {
   "cell_type": "markdown",
   "id": "470d60eb-9877-41e3-9ffe-fb68866b9281",
   "metadata": {},
   "source": [
    "# RapID-cell-counter\n",
    "PyQT graphical interface for high-throughput cell counting for research\n",
    "\n",
    "## New for PyQt5 version\n",
    "\n",
    "### Installing instruction\n",
    "\n",
    "1. **Download Anaconda and RapID source code**\n",
    "    1. [Dowload Ananconda](https://www.anaconda.com/products/individual) if not done before\n",
    "    2. Dowload and unzip the RapID-cell-counter manually: click the green button writen `code` (at the top center of [GitHub page](https://github.com/sanchestm/RapID-cell-counter)) and then click `download zip` in the dropdown options (or use git clone if experienced)\n",
    "2. **Open terminal**\n",
    "    1. **In Windows** open Ananconda Navigator desktop app then click on CMD.exe Prompt\n",
    "![screenshot](images/navigator.png)\n",
    "    2. **In Linux** the terminal can be open directly via CRTL+ALT+T\n",
    "    3. **In Mac:** open terminal by searching `terminal` in Spotlight (or Finder). Open the terminal by clicking the terminal app\n",
    "3. In the terminal copy-paste and press enter for the following code\n",
    "    1. `conda create --name RapID -y shapely pandas pyqt scikit-image`\n",
    "![screenshot](images/create_env2.png)\n",
    "\n",
    "\n",
    "### Run program\n",
    "\n",
    "### For Windows\n",
    "\n",
    "1. **Open terminal**\n",
    "2. In the terminal, activate conda environment copy-paste and press enter for the following code\n",
    "```\n",
    "conda activate RapID\n",
    "```\n",
    "![screenshot](images/activating_conda_environment.png)\n",
    "\n",
    "3. Once we activated the conda environment (which contains all the necessary packages to run the code) we can locate the file (the directory where we downloaded and unzipped the package) and enter the directory to be able to run the program. As an example if we unzipped our file in the Downloads directory we can open this directory using the `cd` Command. In Linux and Mac, the dashes are `/` while in windows we use `\\`\n",
    "```\n",
    "cd Downloads\\RapID-cell-counter-master\n",
    "```\n",
    "![screenshot](images/opening_folder.png)\n",
    "\n",
    "4. Start the software by typing the following code into the terminal and pressing enter\n",
    "```\n",
    "python mainQT5.py\n",
    "```\n",
    "![screenshot](images/running_program.png)\n",
    "\n",
    "### Rerunning the program\n",
    "\n",
    "To rerun the program once we closed it, we only have to reopen the terminal. Activate the RapID environment. Use the `cd` to navigate to the directory of the mainQT5.py file and the execute it using `python mainQT5.py`. Or run the following lines if the RapID source code is in Downloads:\n",
    "```\n",
    "conda activate RapID\n",
    "cd Downloads\\RapID-cell-counter-master\n",
    "python mainQT5.py\n",
    "     \n",
    "```\n",
    "    \n",
    "### For Mac and Linux\n",
    "\n",
    "1. **Open terminal**\n",
    "2. In the terminal, activate conda environment copy-paste and press enter for the following code\n",
    "```\n",
    "conda activate RapID\n",
    "```\n",
    "![screenshot](images/activating_conda_environment.png)\n",
    "\n",
    "3. Once we activated the conda environment (which contains all the necessary packages to run the code) we can locate the file (the directory where we downloaded and unzipped the package) and enter the directory to be able to run the program. As an example if we unzipped our file in the Downloads directory we can open this directory using the `cd` Command. In Linux and Mac, the dashes are `/` while in windows we use `\\`\n",
    "```\n",
    "cd Downloads/RapID-cell-counter-master\n",
    "```\n",
    "![screenshot](images/opening_folder.png)\n",
    "\n",
    "4. Start the software by typing the following code into the terminal and pressing enter\n",
    "```\n",
    "python mainQT5.py\n",
    "```\n",
    "![screenshot](images/running_program.png)\n",
    "\n",
    "### Rerunning the program\n",
    "\n",
    "To rerun the program once we closed it, we only have to reopen the terminal. Activate the RapID environment. Use the `cd` to navigate to the directory of the mainQT5.py file and the execute it using `python mainQT5.py`. Or run the following lines if the RapID source code is in Downloads:\n",
    "```\n",
    "conda activate RapID\n",
    "cd Downloads/RapID-cell-counter-master\n",
    "python mainQT5.py\n",
    "     \n",
    "```\n",
    "    \n",
    "    \n",
    "    \n",
    "    \n",
    "     \n",
    "    \n",
    "    \n",
    "    \n",
    "    \n",
    "    \n",
    "</details>\n",
    "<details>\n",
    "  <summary>Code version for Linux and Mac </summary>\n",
    "\n",
    "    conda activate RapID\n",
    "    cd Downloads/RapID-cell-counter-master\n",
    "    python mainQT5.py\n",
    "\n",
    "</details>\n",
    "\n",
    "![screenshot](images/rerun.png)\n",
    "\n",
    "\n"
   ]
  },
  {
   "cell_type": "code",
   "execution_count": 1,
   "id": "2f12d864-256b-492c-96c0-37862d532b66",
   "metadata": {},
   "outputs": [
    {
     "data": {
      "text/plain": [
       "0.054379776601998824"
      ]
     },
     "execution_count": 1,
     "metadata": {},
     "output_type": "execute_result"
    }
   ],
   "source": [
    "370/6804\n"
   ]
  },
  {
   "cell_type": "code",
   "execution_count": 7,
   "id": "84af24c2-c44a-4328-881d-1389e370a45d",
   "metadata": {},
   "outputs": [
    {
     "data": {
      "text/plain": [
       "[9, 8, 7, 6, 5, 4, 3, 2, 1, 0]"
      ]
     },
     "execution_count": 7,
     "metadata": {},
     "output_type": "execute_result"
    }
   ],
   "source": [
    "list(range(10))[::-1]"
   ]
  },
  {
   "cell_type": "code",
   "execution_count": null,
   "id": "e9958009-ea8b-4743-bf33-103fab263067",
   "metadata": {},
   "outputs": [],
   "source": []
  }
 ],
 "metadata": {
  "kernelspec": {
   "display_name": "Python [conda env:CovDash]",
   "language": "python",
   "name": "conda-env-CovDash-py"
  },
  "language_info": {
   "codemirror_mode": {
    "name": "ipython",
    "version": 3
   },
   "file_extension": ".py",
   "mimetype": "text/x-python",
   "name": "python",
   "nbconvert_exporter": "python",
   "pygments_lexer": "ipython3",
   "version": "3.8.10"
  }
 },
 "nbformat": 4,
 "nbformat_minor": 5
}
